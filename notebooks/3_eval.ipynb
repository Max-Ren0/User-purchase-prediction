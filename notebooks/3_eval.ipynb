{
 "cells": [
  {
   "cell_type": "markdown",
   "id": "7a7eb493",
   "metadata": {},
   "source": [
    "# 📊 模型评估与可视化分析模块 (3_eval.ipynb)\n",
    "\n",
    "## 📋 模块功能\n",
    "对推荐系统进行**全面的评估分析和可视化**，量化各组件的效果并生成直观的分析报告。\n",
    "\n",
    "## 🎯 核心功能\n",
    "1. **📈 性能指标可视化**: Recall@K、NDCG@K指标对比\n",
    "2. **🔬 消融实验分析**: 量化各召回策略和排序模型的贡献\n",
    "3. **🌟 特征重要性分析**: 识别关键特征和优化方向\n",
    "4. **📊 多维度对比**: 不同策略组合的效果对比\n",
    "\n",
    "## 🎨 可视化要求\n",
    "- 使用 **matplotlib** 进行绘图\n",
    "- 每个图表**独立绘制**，便于分析\n",
    "- 采用**系统默认配色**，专业简洁\n",
    "- 支持**高分辨率输出**，适合报告使用\n",
    "\n",
    "## 🔧 输入数据\n",
    "- `metrics_ablation.csv`: 消融实验指标数据\n",
    "- `feature_importance.csv`: 特征重要性数据（可选）\n",
    "\n",
    "## 📈 输出图表\n",
    "- 消融实验柱状图\n",
    "- 指标对比折线图  \n",
    "- 特征重要性排序图\n",
    "- 性能提升分析图"
   ]
  },
  {
   "cell_type": "markdown",
   "id": "a0bceeb2",
   "metadata": {},
   "source": []
  },
  {
   "cell_type": "code",
   "execution_count": 6,
   "id": "eeec043a",
   "metadata": {},
   "outputs": [
    {
     "name": "stdout",
     "output_type": "stream",
     "text": [
      "📁 数据目录: ../x\n",
      "⏰ 分析时间: 2025-09-26 20:16:05\n",
      "🔍 检查数据文件...\n",
      "  ✅ metrics_ablation.csv\n",
      "  ✅ feature_importance.csv (可选)\n",
      "✅ 环境配置完成\n"
     ]
    }
   ],
   "source": [
    "\n",
    "# =============================================================================\n",
    "# 环境配置与依赖导入\n",
    "# =============================================================================\n",
    "import pandas as pd\n",
    "import numpy as np\n",
    "import os\n",
    "import matplotlib.pyplot as plt\n",
    "import seaborn as sns\n",
    "from datetime import datetime\n",
    "import warnings\n",
    "warnings.filterwarnings('ignore')\n",
    "\n",
    "# 设置中文字体支持\n",
    "plt.rcParams['font.sans-serif'] = ['Arial Unicode MS', 'SimHei', 'DejaVu Sans']\n",
    "plt.rcParams['axes.unicode_minus'] = False\n",
    "\n",
    "# 设置图表样式\n",
    "plt.style.use('default')  # 使用默认样式\n",
    "sns.set_palette(\"husl\")   # 设置调色板\n",
    "\n",
    "# 配置参数\n",
    "OUTDIR = '../x'\n",
    "print(f'📁 数据目录: {OUTDIR}')\n",
    "print(f'⏰ 分析时间: {datetime.now().strftime(\"%Y-%m-%d %H:%M:%S\")}')\n",
    "\n",
    "# 检查必要文件\n",
    "required_files = ['metrics_ablation.csv']\n",
    "optional_files = ['feature_importance.csv']\n",
    "\n",
    "print(\"🔍 检查数据文件...\")\n",
    "for file in required_files:\n",
    "    if not os.path.exists(f'{OUTDIR}/{file}'):\n",
    "        raise FileNotFoundError(f\"❌ 缺少必要文件: {file}，请先运行 2_rank.ipynb\")\n",
    "    print(f\"  ✅ {file}\")\n",
    "\n",
    "for file in optional_files:\n",
    "    if os.path.exists(f'{OUTDIR}/{file}'):\n",
    "        print(f\"  ✅ {file} (可选)\")\n",
    "    else:\n",
    "        print(f\"  ⚠️  {file} (可选，未找到)\")\n",
    "\n",
    "print(\"✅ 环境配置完成\")\n",
    "    "
   ]
  },
  {
   "cell_type": "code",
   "execution_count": 7,
   "id": "cbf33622",
   "metadata": {},
   "outputs": [
    {
     "name": "stdout",
     "output_type": "stream",
     "text": [
      "📖 正在加载评估数据...\n",
      "✅ 数据加载完成\n",
      "📊 消融实验指标数据:\n",
      "  数据形状: (3, 5)\n",
      "  包含列: ['setting', 'hr50', 'mrr50', 'ndcg50', 'total_score']\n",
      "\n",
      "📋 消融实验结果预览:\n"
     ]
    },
    {
     "data": {
      "text/html": [
       "<div>\n",
       "<style scoped>\n",
       "    .dataframe tbody tr th:only-of-type {\n",
       "        vertical-align: middle;\n",
       "    }\n",
       "\n",
       "    .dataframe tbody tr th {\n",
       "        vertical-align: top;\n",
       "    }\n",
       "\n",
       "    .dataframe thead th {\n",
       "        text-align: right;\n",
       "    }\n",
       "</style>\n",
       "<table border=\"1\" class=\"dataframe\">\n",
       "  <thead>\n",
       "    <tr style=\"text-align: right;\">\n",
       "      <th></th>\n",
       "      <th>setting</th>\n",
       "      <th>hr50</th>\n",
       "      <th>mrr50</th>\n",
       "      <th>ndcg50</th>\n",
       "      <th>total_score</th>\n",
       "    </tr>\n",
       "  </thead>\n",
       "  <tbody>\n",
       "    <tr>\n",
       "      <th>0</th>\n",
       "      <td>A1_covisit_only_NoRank</td>\n",
       "      <td>0.137074</td>\n",
       "      <td>0.046309</td>\n",
       "      <td>0.066506</td>\n",
       "      <td>0.103798</td>\n",
       "    </tr>\n",
       "    <tr>\n",
       "      <th>1</th>\n",
       "      <td>A1_multi_NoRank</td>\n",
       "      <td>0.247800</td>\n",
       "      <td>0.090065</td>\n",
       "      <td>0.124671</td>\n",
       "      <td>0.189897</td>\n",
       "    </tr>\n",
       "    <tr>\n",
       "      <th>2</th>\n",
       "      <td>A2_multi_Ranker</td>\n",
       "      <td>0.278800</td>\n",
       "      <td>0.223163</td>\n",
       "      <td>0.235954</td>\n",
       "      <td>0.258464</td>\n",
       "    </tr>\n",
       "  </tbody>\n",
       "</table>\n",
       "</div>"
      ],
      "text/plain": [
       "                  setting      hr50     mrr50    ndcg50  total_score\n",
       "0  A1_covisit_only_NoRank  0.137074  0.046309  0.066506     0.103798\n",
       "1         A1_multi_NoRank  0.247800  0.090065  0.124671     0.189897\n",
       "2         A2_multi_Ranker  0.278800  0.223163  0.235954     0.258464"
      ]
     },
     "metadata": {},
     "output_type": "display_data"
    },
    {
     "name": "stdout",
     "output_type": "stream",
     "text": [
      "\n",
      "🔍 数据质量检查:\n",
      "  缺失值: 0\n",
      "  重复行: 0\n",
      "  📊 特征重要性数据: (9, 2)\n"
     ]
    }
   ],
   "source": [
    "# =============================================================================\n",
    "# 数据加载与预处理\n",
    "# =============================================================================\n",
    "print(\"📖 正在加载评估数据...\")\n",
    "\n",
    "# 加载消融实验指标\n",
    "metrics = pd.read_csv(f'{OUTDIR}/metrics_ablation.csv')\n",
    "\n",
    "print(\"✅ 数据加载完成\")\n",
    "print(f\"📊 消融实验指标数据:\")\n",
    "print(f\"  数据形状: {metrics.shape}\")\n",
    "print(f\"  包含列: {list(metrics.columns)}\")\n",
    "\n",
    "# 显示数据概览\n",
    "print(f\"\\n📋 消融实验结果预览:\")\n",
    "display(metrics)\n",
    "\n",
    "# 数据质量检查\n",
    "print(f\"\\n🔍 数据质量检查:\")\n",
    "print(f\"  缺失值: {metrics.isnull().sum().sum()}\")\n",
    "print(f\"  重复行: {metrics.duplicated().sum()}\")\n",
    "\n",
    "# 尝试加载特征重要性数据\n",
    "feature_importance = None\n",
    "if os.path.exists(f'{OUTDIR}/feature_importance.csv'):\n",
    "    try:\n",
    "        feature_importance = pd.read_csv(f'{OUTDIR}/feature_importance.csv')\n",
    "        print(f\"  📊 特征重要性数据: {feature_importance.shape}\")\n",
    "    except Exception as e:\n",
    "        print(f\"  ⚠️  特征重要性数据加载失败: {e}\")\n",
    "else:\n",
    "    print(f\"  ℹ️  未找到特征重要性数据，将跳过相关分析\")\n"
   ]
  },
  {
   "cell_type": "code",
   "execution_count": 8,
   "id": "a662c9c3",
   "metadata": {},
   "outputs": [
    {
     "ename": "KeyError",
     "evalue": "'recall_at_50'",
     "output_type": "error",
     "traceback": [
      "\u001b[0;31m---------------------------------------------------------------------------\u001b[0m",
      "\u001b[0;31mKeyError\u001b[0m                                  Traceback (most recent call last)",
      "File \u001b[0;32m/opt/anaconda3/lib/python3.12/site-packages/pandas/core/indexes/base.py:3812\u001b[0m, in \u001b[0;36mIndex.get_loc\u001b[0;34m(self, key)\u001b[0m\n\u001b[1;32m   3811\u001b[0m \u001b[38;5;28;01mtry\u001b[39;00m:\n\u001b[0;32m-> 3812\u001b[0m     \u001b[38;5;28;01mreturn\u001b[39;00m \u001b[38;5;28mself\u001b[39m\u001b[38;5;241m.\u001b[39m_engine\u001b[38;5;241m.\u001b[39mget_loc(casted_key)\n\u001b[1;32m   3813\u001b[0m \u001b[38;5;28;01mexcept\u001b[39;00m \u001b[38;5;167;01mKeyError\u001b[39;00m \u001b[38;5;28;01mas\u001b[39;00m err:\n",
      "File \u001b[0;32mindex.pyx:167\u001b[0m, in \u001b[0;36mpandas._libs.index.IndexEngine.get_loc\u001b[0;34m()\u001b[0m\n",
      "File \u001b[0;32mindex.pyx:196\u001b[0m, in \u001b[0;36mpandas._libs.index.IndexEngine.get_loc\u001b[0;34m()\u001b[0m\n",
      "File \u001b[0;32mpandas/_libs/hashtable_class_helper.pxi:7088\u001b[0m, in \u001b[0;36mpandas._libs.hashtable.PyObjectHashTable.get_item\u001b[0;34m()\u001b[0m\n",
      "File \u001b[0;32mpandas/_libs/hashtable_class_helper.pxi:7096\u001b[0m, in \u001b[0;36mpandas._libs.hashtable.PyObjectHashTable.get_item\u001b[0;34m()\u001b[0m\n",
      "\u001b[0;31mKeyError\u001b[0m: 'recall_at_50'",
      "\nThe above exception was the direct cause of the following exception:\n",
      "\u001b[0;31mKeyError\u001b[0m                                  Traceback (most recent call last)",
      "Cell \u001b[0;32mIn[8], line 4\u001b[0m\n\u001b[1;32m      2\u001b[0m plt\u001b[38;5;241m.\u001b[39mfigure()\n\u001b[1;32m      3\u001b[0m x \u001b[38;5;241m=\u001b[39m np\u001b[38;5;241m.\u001b[39marange(\u001b[38;5;28mlen\u001b[39m(metrics))\n\u001b[0;32m----> 4\u001b[0m vals \u001b[38;5;241m=\u001b[39m metrics[\u001b[38;5;124m'\u001b[39m\u001b[38;5;124mrecall_at_50\u001b[39m\u001b[38;5;124m'\u001b[39m]\u001b[38;5;241m.\u001b[39mvalues\n\u001b[1;32m      5\u001b[0m plt\u001b[38;5;241m.\u001b[39mbar(x, vals)\n\u001b[1;32m      6\u001b[0m plt\u001b[38;5;241m.\u001b[39mxticks(x, metrics[\u001b[38;5;124m'\u001b[39m\u001b[38;5;124msetting\u001b[39m\u001b[38;5;124m'\u001b[39m], rotation\u001b[38;5;241m=\u001b[39m\u001b[38;5;241m20\u001b[39m, ha\u001b[38;5;241m=\u001b[39m\u001b[38;5;124m'\u001b[39m\u001b[38;5;124mright\u001b[39m\u001b[38;5;124m'\u001b[39m)\n",
      "File \u001b[0;32m/opt/anaconda3/lib/python3.12/site-packages/pandas/core/frame.py:4107\u001b[0m, in \u001b[0;36mDataFrame.__getitem__\u001b[0;34m(self, key)\u001b[0m\n\u001b[1;32m   4105\u001b[0m \u001b[38;5;28;01mif\u001b[39;00m \u001b[38;5;28mself\u001b[39m\u001b[38;5;241m.\u001b[39mcolumns\u001b[38;5;241m.\u001b[39mnlevels \u001b[38;5;241m>\u001b[39m \u001b[38;5;241m1\u001b[39m:\n\u001b[1;32m   4106\u001b[0m     \u001b[38;5;28;01mreturn\u001b[39;00m \u001b[38;5;28mself\u001b[39m\u001b[38;5;241m.\u001b[39m_getitem_multilevel(key)\n\u001b[0;32m-> 4107\u001b[0m indexer \u001b[38;5;241m=\u001b[39m \u001b[38;5;28mself\u001b[39m\u001b[38;5;241m.\u001b[39mcolumns\u001b[38;5;241m.\u001b[39mget_loc(key)\n\u001b[1;32m   4108\u001b[0m \u001b[38;5;28;01mif\u001b[39;00m is_integer(indexer):\n\u001b[1;32m   4109\u001b[0m     indexer \u001b[38;5;241m=\u001b[39m [indexer]\n",
      "File \u001b[0;32m/opt/anaconda3/lib/python3.12/site-packages/pandas/core/indexes/base.py:3819\u001b[0m, in \u001b[0;36mIndex.get_loc\u001b[0;34m(self, key)\u001b[0m\n\u001b[1;32m   3814\u001b[0m     \u001b[38;5;28;01mif\u001b[39;00m \u001b[38;5;28misinstance\u001b[39m(casted_key, \u001b[38;5;28mslice\u001b[39m) \u001b[38;5;129;01mor\u001b[39;00m (\n\u001b[1;32m   3815\u001b[0m         \u001b[38;5;28misinstance\u001b[39m(casted_key, abc\u001b[38;5;241m.\u001b[39mIterable)\n\u001b[1;32m   3816\u001b[0m         \u001b[38;5;129;01mand\u001b[39;00m \u001b[38;5;28many\u001b[39m(\u001b[38;5;28misinstance\u001b[39m(x, \u001b[38;5;28mslice\u001b[39m) \u001b[38;5;28;01mfor\u001b[39;00m x \u001b[38;5;129;01min\u001b[39;00m casted_key)\n\u001b[1;32m   3817\u001b[0m     ):\n\u001b[1;32m   3818\u001b[0m         \u001b[38;5;28;01mraise\u001b[39;00m InvalidIndexError(key)\n\u001b[0;32m-> 3819\u001b[0m     \u001b[38;5;28;01mraise\u001b[39;00m \u001b[38;5;167;01mKeyError\u001b[39;00m(key) \u001b[38;5;28;01mfrom\u001b[39;00m\u001b[38;5;250m \u001b[39m\u001b[38;5;21;01merr\u001b[39;00m\n\u001b[1;32m   3820\u001b[0m \u001b[38;5;28;01mexcept\u001b[39;00m \u001b[38;5;167;01mTypeError\u001b[39;00m:\n\u001b[1;32m   3821\u001b[0m     \u001b[38;5;66;03m# If we have a listlike key, _check_indexing_error will raise\u001b[39;00m\n\u001b[1;32m   3822\u001b[0m     \u001b[38;5;66;03m#  InvalidIndexError. Otherwise we fall through and re-raise\u001b[39;00m\n\u001b[1;32m   3823\u001b[0m     \u001b[38;5;66;03m#  the TypeError.\u001b[39;00m\n\u001b[1;32m   3824\u001b[0m     \u001b[38;5;28mself\u001b[39m\u001b[38;5;241m.\u001b[39m_check_indexing_error(key)\n",
      "\u001b[0;31mKeyError\u001b[0m: 'recall_at_50'"
     ]
    },
    {
     "data": {
      "text/plain": [
       "<Figure size 640x480 with 0 Axes>"
      ]
     },
     "metadata": {},
     "output_type": "display_data"
    }
   ],
   "source": [
    "",
    "# 图1：Recall@50 消融柱状图",
    "plt.figure()",
    "x = np.arange(len(metrics))",
    "vals = metrics['hr50'].values",
    "plt.bar(x, vals)",
    "plt.xticks(x, metrics['setting'], rotation=20, ha='right')",
    "plt.title('Ablation: Recall@50')",
    "plt.ylabel('Recall@50')",
    "plt.tight_layout()",
    "plt.show()",
    "    "
   ]
  },
  {
   "cell_type": "code",
   "execution_count": null,
   "id": "6358b28c",
   "metadata": {},
   "outputs": [],
   "source": [
    "",
    "# 图2：NDCG@50 消融柱状图",
    "plt.figure()",
    "x = np.arange(len(metrics))",
    "vals = metrics['ndcg50'].values",
    "plt.bar(x, vals)",
    "plt.xticks(x, metrics['setting'], rotation=20, ha='right')",
    "plt.title('Ablation: NDCG@50')",
    "plt.ylabel('NDCG@50')",
    "plt.tight_layout()",
    "plt.show()",
    "    "
   ]
  },
  {
   "cell_type": "code",
   "execution_count": null,
   "id": "22a698b0",
   "metadata": {},
   "outputs": [],
   "source": [
    "\n",
    "# （可选）图3：LightGBM 特征重要性 Top10\n",
    "import os, pandas as pd, matplotlib.pyplot as plt, numpy as np\n",
    "\n",
    "fi_path = f'{OUTDIR}/feature_importance.csv'\n",
    "if os.path.exists(fi_path):\n",
    "    fi = pd.read_csv(fi_path).sort_values('importance', ascending=False).head(10)\n",
    "    plt.figure()\n",
    "    plt.barh(fi['feature'][::-1], fi['importance'][::-1])\n",
    "    plt.title('Feature Importance (Top 10)')\n",
    "    plt.tight_layout()\n",
    "    plt.show()\n",
    "else:\n",
    "    print('feature_importance.csv not found (LightGBM may not be installed).')\n",
    "    "
   ]
  }
 ],
 "metadata": {
  "kernelspec": {
   "display_name": "base",
   "language": "python",
   "name": "python3"
  },
  "language_info": {
   "codemirror_mode": {
    "name": "ipython",
    "version": 3
   },
   "file_extension": ".py",
   "mimetype": "text/x-python",
   "name": "python",
   "nbconvert_exporter": "python",
   "pygments_lexer": "ipython3",
   "version": "3.12.11"
  }
 },
 "nbformat": 4,
 "nbformat_minor": 5
}