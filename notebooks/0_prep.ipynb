{
 "cells": [
  {
   "cell_type": "markdown",
   "id": "4e758a73",
   "metadata": {},
   "source": [
    "# 0) 数据准备（排序 + 留一验证切分）\n",
    "\n",
    "**目的**  \n",
    "- 读取 `train/test/item_attr`\n",
    "- 解析时间 & 排序：`buyer_admin_id, create_order_time, irank` 升序  \n",
    "- 留一验证切分：每个用户最后一条作为 `label_df`，其余为 `train_vis`（线下统计一律基于它）  \n",
    "- 将中间产物保存到 `/mnt/data/reco/`"
   ]
  },
  {
   "cell_type": "code",
   "execution_count": 4,
   "id": "95e7bf60",
   "metadata": {},
   "outputs": [
    {
     "name": "stdout",
     "output_type": "stream",
     "text": [
      "Saved to ../x\n",
      "(6989817, 5) (140380, 5) (6506700, 5) (483117, 2)\n"
     ]
    }
   ],
   "source": [
    "# 依赖\n",
    "import pandas as pd, numpy as np, os, json\n",
    "\n",
    "TRAIN_CSV = '../data/Antai_hackathon_train.csv'\n",
    "TEST_CSV  = '../data/dianshang_test.csv'\n",
    "ATTR_CSV  = '../data/Antai_hackathon_attr.csv'\n",
    "\n",
    "OUTDIR = '../x'\n",
    "os.makedirs(OUTDIR, exist_ok=True)\n",
    "\n",
    "# 读取 CSV\n",
    "# 指定 dtype，避免默认 int64/float64 吃内存\n",
    "dtype_train = {\n",
    "    \"buyer_admin_id\": \"int32\",   # 如果用户ID都是数字\n",
    "    \"item_id\": \"int32\",          # 商品ID\n",
    "    # 其他列可以继续补充，比如 \"irank\": \"int16\"\n",
    "}\n",
    "\n",
    "dtype_test = {\n",
    "    \"buyer_admin_id\": \"int32\",\n",
    "    \"item_id\": \"int32\"\n",
    "}\n",
    "\n",
    "dtype_item_attr = {\n",
    "    \"item_id\": \"int32\"\n",
    "}\n",
    "\n",
    "train = pd.read_csv(\n",
    "    TRAIN_CSV,\n",
    "    parse_dates=['create_order_time'],  # 日期字段直接转 datetime\n",
    "    dtype=dtype_train\n",
    ")\n",
    "\n",
    "test = pd.read_csv(\n",
    "    TEST_CSV,\n",
    "    parse_dates=['create_order_time'],\n",
    "    dtype=dtype_test\n",
    ")\n",
    "\n",
    "item_attr = pd.read_csv(\n",
    "    ATTR_CSV,\n",
    "    dtype=dtype_item_attr\n",
    ")\n",
    "\n",
    "\n",
    "# 字段检查\n",
    "need_train = {'buyer_admin_id','item_id','create_order_time','irank'}\n",
    "need_attr  = {'item_id','cate_id','store_id'}\n",
    "assert need_train.issubset(train.columns), f'missing: {need_train - set(train.columns)}'\n",
    "assert need_train.issubset(test.columns),  f'missing: {need_train - set(test.columns)}'\n",
    "assert need_attr.issubset(item_attr.columns), f'missing: {need_attr - set(item_attr.columns)}'\n",
    "\n",
    "\n",
    "# 留一验证切分\n",
    "last_idx = train.groupby('buyer_admin_id')['irank'].idxmin()\n",
    "label_df = train.loc[last_idx, ['buyer_admin_id','item_id']].rename(columns={'item_id':'label_item'})\n",
    "train_vis = train.drop(index=last_idx).copy()\n",
    "\n",
    "# 保存中间产物\n",
    "train.to_parquet(f'{OUTDIR}/train_sorted.parquet', index=False)\n",
    "test.to_parquet(f'{OUTDIR}/test_sorted.parquet', index=False)\n",
    "item_attr[['item_id','cate_id','store_id']].drop_duplicates().to_parquet(f'{OUTDIR}/item_attr.parquet', index=False)\n",
    "train_vis.to_parquet(f'{OUTDIR}/train_vis.parquet', index=False)\n",
    "label_df.to_parquet(f'{OUTDIR}/label_df.parquet', index=False)\n",
    "\n",
    "print('Saved to', OUTDIR)\n",
    "print(train.shape, test.shape, train_vis.shape, label_df.shape)\n",
    "    "
   ]
  }
 ],
 "metadata": {
  "kernelspec": {
   "display_name": "base",
   "language": "python",
   "name": "python3"
  },
  "language_info": {
   "codemirror_mode": {
    "name": "ipython",
    "version": 3
   },
   "file_extension": ".py",
   "mimetype": "text/x-python",
   "name": "python",
   "nbconvert_exporter": "python",
   "pygments_lexer": "ipython3",
   "version": "3.12.11"
  }
 },
 "nbformat": 4,
 "nbformat_minor": 5
}
